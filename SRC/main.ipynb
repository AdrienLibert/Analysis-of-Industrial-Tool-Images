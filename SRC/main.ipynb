{
 "cells": [
  {
   "cell_type": "code",
   "execution_count": 7,
   "id": "0390afb7",
   "metadata": {},
   "outputs": [],
   "source": [
    "import nbimporter\n",
    "import pandas as pd\n",
    "from pattern_match import template\n",
    "from list_pas_diam import pattern_list\n",
    "from pattern_match import match\n",
    "import cv2"
   ]
  },
  {
   "cell_type": "code",
   "execution_count": 2,
   "id": "ba8d727b",
   "metadata": {},
   "outputs": [],
   "source": [
    "def main(image_path,reference_object_mm,longueur_cm,depassement_mm):\n",
    "    l = pattern_list(pd.read_csv('TableauConversion/Tableau_conversion.csv'))\n",
    "    l_template = []\n",
    "    seuil = 0\n",
    "    i_final = None\n",
    "    for i in l:\n",
    "        template_tmp = template(image_path,i[0],i[1],longueur_cm,depassement_mm,reference_object_mm)\n",
    "        match_tmp = match(template_tmp,image_path)\n",
    "        if match_tmp[2] > seuil: #on recup le meilleur seuil\n",
    "            seuil = match_tmp[2]\n",
    "            i_final = match_tmp[0]\n",
    "    return i_final"
   ]
  },
  {
   "cell_type": "code",
   "execution_count": 3,
   "id": "7f0357b3",
   "metadata": {},
   "outputs": [],
   "source": [
    "image_path = '../DataBase/image7.jpg' \n",
    "reference_object_mm = 22.6\n",
    "depassement_mm = 0.2\n",
    "longueur_cm = 10"
   ]
  },
  {
   "cell_type": "code",
   "execution_count": 4,
   "id": "a3468e9b",
   "metadata": {},
   "outputs": [
    {
     "data": {
      "text/plain": [
       "81.52"
      ]
     },
     "execution_count": 4,
     "metadata": {},
     "output_type": "execute_result"
    }
   ],
   "source": [
    "p = pattern_list(pd.read_csv('TableauConversion/Tableau_conversion.csv'))\n",
    "p[0][1] + p[0][0]"
   ]
  },
  {
   "cell_type": "code",
   "execution_count": 5,
   "id": "e9388a2b",
   "metadata": {},
   "outputs": [],
   "source": [
    "m = main(image_path,reference_object_mm,longueur_cm,depassement_mm)"
   ]
  },
  {
   "cell_type": "code",
   "execution_count": 8,
   "id": "ba34436c",
   "metadata": {},
   "outputs": [
    {
     "data": {
      "text/plain": [
       "True"
      ]
     },
     "execution_count": 8,
     "metadata": {},
     "output_type": "execute_result"
    }
   ],
   "source": [
    "cv2.imwrite('image.jpg', m)"
   ]
  }
 ],
 "metadata": {
  "kernelspec": {
   "display_name": "Python 3 (ipykernel)",
   "language": "python",
   "name": "python3"
  },
  "language_info": {
   "codemirror_mode": {
    "name": "ipython",
    "version": 3
   },
   "file_extension": ".py",
   "mimetype": "text/x-python",
   "name": "python",
   "nbconvert_exporter": "python",
   "pygments_lexer": "ipython3",
   "version": "3.11.5"
  }
 },
 "nbformat": 4,
 "nbformat_minor": 5
}
