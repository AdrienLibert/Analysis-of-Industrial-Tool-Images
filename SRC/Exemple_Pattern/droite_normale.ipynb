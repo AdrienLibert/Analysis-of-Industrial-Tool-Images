{
 "cells": [
  {
   "cell_type": "code",
   "execution_count": 1,
   "id": "3ee5bb66",
   "metadata": {},
   "outputs": [],
   "source": [
    "import cv2\n",
    "import numpy as np\n",
    "from matplotlib import pyplot as plt\n",
    "import nbimporter\n",
    "from diametre_monnaie import conversion_piece"
   ]
  },
  {
   "cell_type": "code",
   "execution_count": 2,
   "id": "3761e5fa",
   "metadata": {},
   "outputs": [],
   "source": [
    "image_path = '../DataBase/image7.jpg' \n",
    "\n",
    "reference_object_mm = 22.6  # diamètre de la pièce de monnaie en mm \n",
    "\n",
    "# Les dimensions réelles en millimètres de la piece \n",
    "\n",
    "diametre_reel_mm = 20  # Diamètre réel du filetage en mm  \n",
    "pas_reel_mm = 25.4 / 14 # Pas réel du filetage en mm"
   ]
  },
  {
   "cell_type": "code",
   "execution_count": 3,
   "id": "d31a20ca",
   "metadata": {},
   "outputs": [],
   "source": [
    "def match(template,img):\n",
    "    w, h = template.shape[::-1]\n",
    "    res = cv2.matchTemplate(img,template,cv2.TM_CCOEFF_NORMED)\n",
    "    min_val, max_val, min_loc, max_loc = cv2.minMaxLoc(res)\n",
    "\n",
    "    top_left = max_loc\n",
    "    bottom_right = (top_left[0] + w, top_left[1] + h)\n",
    "    cv2.rectangle(img,top_left, bottom_right, 255, 2)\n",
    "    \n",
    "    return img,res,max_val"
   ]
  },
  {
   "cell_type": "code",
   "execution_count": 4,
   "id": "4aea6396",
   "metadata": {},
   "outputs": [],
   "source": [
    "def extract_line_pixels(img, start_point, end_point):\n",
    "    height, width = img.shape[:2]  # Obtenir les dimensions de l'image\n",
    "    num_points = max(abs(end_point[1] - start_point[1]), abs(end_point[0] - start_point[0]))\n",
    "    \n",
    "    x_values = np.linspace(start_point[0], end_point[0], num=num_points, endpoint=False).astype(int)\n",
    "    y_values = np.linspace(start_point[1], end_point[1], num=num_points, endpoint=False).astype(int)\n",
    "    \n",
    "    x_values = np.clip(x_values, 0, width-1)\n",
    "    y_values = np.clip(y_values, 0, height-1)\n",
    "    \n",
    "    pixel_values = img[y_values, x_values]\n",
    "    \n",
    "    return pixel_values"
   ]
  },
  {
   "cell_type": "code",
   "execution_count": 5,
   "id": "786bac63",
   "metadata": {},
   "outputs": [],
   "source": [
    "def draw_tooth_pattern(image_path, pas_reel_mm, reference_object_mm, rotation):\n",
    "    # Supposons que cette fonction retourne la taille en pixels du diamètre réel\n",
    "    size_pixels = conversion_piece(image_path, reference_object_mm)\n",
    "    \n",
    "    if size_pixels <= 0:\n",
    "        raise ValueError(\"La taille en pixels doit être positive et non nulle\")\n",
    "\n",
    "    pas_pixels = pas_reel_mm / size_pixels\n",
    "    tooth_height = max(int(1 / size_pixels), 1)  # Assurez-vous que la hauteur est au moins 1\n",
    "    \n",
    "    pattern_width = int(pas_pixels) * 4  # Largeur pour 4 dents\n",
    "    \n",
    "    pattern_image = np.zeros((tooth_height, pattern_width), dtype=np.uint8)\n",
    "    \n",
    "    # Dessiner 4 dents\n",
    "    for i in range(4):\n",
    "        start_x = int(i * pas_pixels + pas_pixels * 0.25)\n",
    "        end_x = int((i + 1) * pas_pixels - pas_pixels * 0.25)\n",
    "        middle_x = int((start_x + end_x) / 2)\n",
    "        \n",
    "        cv2.line(pattern_image, (start_x, tooth_height - 1), (middle_x, 0), 255, 1)\n",
    "        cv2.line(pattern_image, (middle_x, 0), (end_x, tooth_height - 1), 255, 1)\n",
    "\n",
    "    if rotation:\n",
    "        pattern_image = cv2.rotate(pattern_image, cv2.ROTATE_180)\n",
    "\n",
    "    return pattern_image\n"
   ]
  },
  {
   "cell_type": "code",
   "execution_count": 6,
   "id": "7cbc44fc",
   "metadata": {},
   "outputs": [],
   "source": [
    "def match_and_draw_normal_and_analyze(image_path, pas_reel_mm, reference_object_mm, rotation):\n",
    "    template = draw_tooth_pattern(image_path, pas_reel_mm, reference_object_mm, rotation)\n",
    "    \n",
    "    # Ensure the image is correctly loaded\n",
    "    img_color = cv2.imread(image_path)\n",
    "    if img_color is None:\n",
    "        raise FileNotFoundError(\"The image could not be loaded. Please check the image path.\")\n",
    "    \n",
    "    # Continue with filtering and processing as before\n",
    "    img_filtered = cv2.bilateralFilter(img_color, d=9, sigmaColor=75, sigmaSpace=75)\n",
    "    gray = cv2.cvtColor(img_filtered, cv2.COLOR_BGR2GRAY)\n",
    "    clahe = cv2.createCLAHE(clipLimit=2.0, tileGridSize=(8, 8))\n",
    "    gray_clahe = clahe.apply(gray)\n",
    "    thresh = cv2.adaptiveThreshold(gray_clahe, 255, cv2.ADAPTIVE_THRESH_GAUSSIAN_C, cv2.THRESH_BINARY, 11, 2)\n",
    "    thresh = cv2.bitwise_not(thresh)\n",
    "    cv2.imwrite('try.jpg', thresh)\n",
    "    \n",
    "    # Ensure the template and the image are correctly passed to the match function\n",
    "    img_with_rectangle, res, max_val = match(template, gray_clahe)\n",
    "    \n",
    "    # Continue your function as before\n",
    "    w, h = template.shape[::-1]\n",
    "    top_left = cv2.minMaxLoc(res)[3]\n",
    "    bottom_right = (top_left[0] + w, top_left[1] + h)\n",
    "    center = ((top_left[0] + bottom_right[0]) // 2, (top_left[1] + bottom_right[1]) // 2)\n",
    "    length = 2000  # Adjust as necessary\n",
    "    cv2.imwrite('try.jpg', img_with_rectangle)\n",
    "\n",
    "    start_point = (center[0], center[1] - length // 2)\n",
    "    end_point = (center[0], center[1] + length // 2)\n",
    "    pixel_values = extract_line_pixels(gray, start_point, end_point)\n",
    "    \n",
    "    return pixel_values"
   ]
  },
  {
   "cell_type": "code",
   "execution_count": 7,
   "id": "693ad360",
   "metadata": {},
   "outputs": [],
   "source": [
    "def diameter_filtage(pixel_values,image_path):\n",
    "    cnp = conversion_piece(image_path,22.6)\n",
    "    max_diff = 8\n",
    "    begin = 0\n",
    "    end = len(pixel_values) - 1\n",
    "\n",
    "    pixel_values = np.array(pixel_values, dtype=np.int64)\n",
    "\n",
    "    for i in range(len(pixel_values) - 1):\n",
    "        diff = abs(int(pixel_values[i]) - int(pixel_values[i + 1]))\n",
    "        if diff > max_diff:\n",
    "            begin = i + 1\n",
    "            break\n",
    "\n",
    "    for i in range(len(pixel_values) - 1, 0, -1):\n",
    "        diff = abs(int(pixel_values[i]) - int(pixel_values[i - 1]))\n",
    "        if diff > max_diff:\n",
    "            end = i\n",
    "            break \n",
    "\n",
    "    return (end - begin) * cnp"
   ]
  },
  {
   "cell_type": "code",
   "execution_count": 11,
   "id": "ae43a787",
   "metadata": {
    "scrolled": true
   },
   "outputs": [
    {
     "data": {
      "image/png": "[encoded data removed]",
      "text/plain": [
       "<Figure size 1000x200 with 1 Axes>"
      ]
     },
     "metadata": {},
     "output_type": "display_data"
    }
   ],
   "source": [
    "import numpy as np\n",
    "import matplotlib.pyplot as plt\n",
    "\n",
    "pixel_values = match_and_draw_normal_and_analyze(image_path, pas_reel_mm, reference_object_mm, False)\n",
    "\n",
    "plt.figure(figsize=(10, 2))\n",
    "plt.plot(pixel_values, color='gray')\n",
    "\n",
    "plt.grid(True)\n",
    "plt.show()"
   ]
  },
  {
   "cell_type": "code",
   "execution_count": 9,
   "id": "740923da",
   "metadata": {},
   "outputs": [],
   "source": [
    "#methode ombre shadow removal modele de machine learning"
   ]
  },
  {
   "cell_type": "code",
   "execution_count": 10,
   "id": "934056e3",
   "metadata": {},
   "outputs": [
    {
     "data": {
      "text/plain": [
       "array([151, 151, 151, ..., 178, 178, 178], dtype=uint8)"
      ]
     },
     "execution_count": 10,
     "metadata": {},
     "output_type": "execute_result"
    }
   ],
   "source": [
    "match_and_draw_normal_and_analyze(image_path, pas_reel_mm, reference_object_mm, False)\n"
   ]
  },
  {
   "cell_type": "code",
   "execution_count": null,
   "id": "7f898194",
   "metadata": {},
   "outputs": [],
   "source": []
  }
 ],
 "metadata": {
  "kernelspec": {
   "display_name": "Python 3 (ipykernel)",
   "language": "python",
   "name": "python3"
  },
  "language_info": {
   "codemirror_mode": {
    "name": "ipython",
    "version": 3
   },
   "file_extension": ".py",
   "mimetype": "text/x-python",
   "name": "python",
   "nbconvert_exporter": "python",
   "pygments_lexer": "ipython3",
   "version": "3.11.5"
  }
 },
 "nbformat": 4,
 "nbformat_minor": 5
}
