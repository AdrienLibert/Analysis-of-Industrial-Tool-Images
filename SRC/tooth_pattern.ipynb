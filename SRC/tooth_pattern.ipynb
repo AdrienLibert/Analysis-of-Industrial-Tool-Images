{
 "cells": [
  {
   "cell_type": "code",
   "execution_count": 14,
   "id": "15e3c241",
   "metadata": {},
   "outputs": [],
   "source": [
    "import cv2\n",
    "import numpy as np\n",
    "from matplotlib import pyplot as plt\n",
    "import nbimporter\n",
    "from diametre_monnaie import conversion_piece"
   ]
  },
  {
   "cell_type": "code",
   "execution_count": 20,
   "id": "80753146",
   "metadata": {},
   "outputs": [],
   "source": [
    "image_path = '../DataBase/image7.jpg' \n",
    "\n",
    "reference_object_mm = 22.6  # diamètre de la pièce de monnaie en mm \n",
    "\n",
    "# Les dimensions réelles en millimètres de la piece \n",
    "\n",
    "diametre_reel_mm = 20  # Diamètre réel du filetage en mm  \n",
    "pas_reel_mm = 25.4 / 14 # Pas réel du filetage en mm"
   ]
  },
  {
   "cell_type": "code",
   "execution_count": 21,
   "id": "ad088dc1",
   "metadata": {},
   "outputs": [],
   "source": [
    "def draw_tooth_pattern(image_path, diametre_reel_mm, pas_reel_mm, reference_object_mm, rotation):\n",
    "    # Supposons que cette fonction retourne la taille en pixels du diamètre réel\n",
    "    size_pixels = conversion_piece(image_path, reference_object_mm)\n",
    "    \n",
    "    if size_pixels <= 0:\n",
    "        raise ValueError(\"La taille en pixels doit être positive et non nulle\")\n",
    "\n",
    "    pas_pixels = pas_reel_mm / size_pixels\n",
    "    tooth_height = max(int(1 / size_pixels), 1)  # Assurez-vous que la hauteur est au moins 1\n",
    "    \n",
    "    pattern_width = int(pas_pixels) * 4  # Largeur pour 4 dents\n",
    "    \n",
    "    pattern_image = np.zeros((tooth_height, pattern_width), dtype=np.uint8)\n",
    "    \n",
    "    # Dessiner 4 dents\n",
    "    for i in range(4):\n",
    "        start_x = int(i * pas_pixels + pas_pixels * 0.25)\n",
    "        end_x = int((i + 1) * pas_pixels - pas_pixels * 0.25)\n",
    "        middle_x = int((start_x + end_x) / 2)\n",
    "        \n",
    "        cv2.line(pattern_image, (start_x, tooth_height - 1), (middle_x, 0), 255, 1)\n",
    "        cv2.line(pattern_image, (middle_x, 0), (end_x, tooth_height - 1), 255, 1)\n",
    "\n",
    "    if rotation:\n",
    "        pattern_image = cv2.rotate(pattern_image, cv2.ROTATE_180)\n",
    "\n",
    "    return pattern_image\n"
   ]
  },
  {
   "cell_type": "code",
   "execution_count": 22,
   "id": "2cf875cc",
   "metadata": {},
   "outputs": [
    {
     "data": {
      "text/plain": [
       "True"
      ]
     },
     "execution_count": 22,
     "metadata": {},
     "output_type": "execute_result"
    }
   ],
   "source": [
    "pattern_image = draw_tooth_pattern(image_path,diametre_reel_mm,pas_reel_mm,reference_object_mm,False)\n",
    "cv2.imwrite('pattern_image.jpg', pattern_image)"
   ]
  },
  {
   "cell_type": "code",
   "execution_count": 23,
   "id": "4a28c848",
   "metadata": {},
   "outputs": [],
   "source": [
    "def match(template,img_path):\n",
    "    img = cv2.imread(img_path,cv2.IMREAD_GRAYSCALE)\n",
    "    w, h = template.shape[::-1]\n",
    "    res = cv2.matchTemplate(img,template,cv2.TM_CCOEFF_NORMED)\n",
    "    min_val, max_val, min_loc, max_loc = cv2.minMaxLoc(res)\n",
    "\n",
    "    top_left = max_loc\n",
    "    bottom_right = (top_left[0] + w, top_left[1] + h)\n",
    "    \n",
    "    cv2.rectangle(img,top_left, bottom_right, 255, 2)\n",
    "    \n",
    "    return img,res,max_val"
   ]
  },
  {
   "cell_type": "code",
   "execution_count": 24,
   "id": "6548f43d",
   "metadata": {},
   "outputs": [
    {
     "data": {
      "text/plain": [
       "True"
      ]
     },
     "execution_count": 24,
     "metadata": {},
     "output_type": "execute_result"
    }
   ],
   "source": [
    "img, res, max_val = match(pattern_image, image_path)\n",
    "cv2.imwrite('matched_image.jpg', img)"
   ]
  },
  {
   "cell_type": "code",
   "execution_count": null,
   "id": "987d6784",
   "metadata": {},
   "outputs": [],
   "source": []
  }
 ],
 "metadata": {
  "kernelspec": {
   "display_name": "Python 3 (ipykernel)",
   "language": "python",
   "name": "python3"
  },
  "language_info": {
   "codemirror_mode": {
    "name": "ipython",
    "version": 3
   },
   "file_extension": ".py",
   "mimetype": "text/x-python",
   "name": "python",
   "nbconvert_exporter": "python",
   "pygments_lexer": "ipython3",
   "version": "3.11.5"
  }
 },
 "nbformat": 4,
 "nbformat_minor": 5
}
