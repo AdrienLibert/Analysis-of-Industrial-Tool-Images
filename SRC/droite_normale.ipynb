{
 "cells": [
  {
   "cell_type": "code",
   "execution_count": 52,
   "id": "3ee5bb66",
   "metadata": {},
   "outputs": [],
   "source": [
    "import cv2\n",
    "import numpy as np\n",
    "from matplotlib import pyplot as plt\n",
    "import nbimporter\n",
    "from diametre_monnaie import conversion_piece"
   ]
  },
  {
   "cell_type": "code",
   "execution_count": 53,
   "id": "3761e5fa",
   "metadata": {},
   "outputs": [],
   "source": [
    "image_path = '../DataBase/image7.jpg' \n",
    "\n",
    "reference_object_mm = 22.6  # diamètre de la pièce de monnaie en mm \n",
    "\n",
    "# Les dimensions réelles en millimètres de la piece \n",
    "\n",
    "diametre_reel_mm = 20  # Diamètre réel du filetage en mm  \n",
    "pas_reel_mm = 25.4 / 14 # Pas réel du filetage en mm"
   ]
  },
  {
   "cell_type": "code",
   "execution_count": 54,
   "id": "189e0b88",
   "metadata": {},
   "outputs": [],
   "source": [
    "def draw_tooth_pattern(image_path, diametre_reel_mm, pas_reel_mm, reference_object_mm, rotation):\n",
    "    # Supposons que cette fonction retourne la taille en pixels du diamètre réel\n",
    "    size_pixels = conversion_piece(image_path, reference_object_mm)\n",
    "    \n",
    "    if size_pixels <= 0:\n",
    "        raise ValueError(\"La taille en pixels doit être positive et non nulle\")\n",
    "\n",
    "    pas_pixels = pas_reel_mm / size_pixels\n",
    "    tooth_height = max(int(1 / size_pixels), 1)  # Assurez-vous que la hauteur est au moins 1\n",
    "    \n",
    "    pattern_width = int(pas_pixels) * 4  # Largeur pour 4 dents\n",
    "    \n",
    "    pattern_image = np.zeros((tooth_height, pattern_width), dtype=np.uint8)\n",
    "    \n",
    "    # Dessiner 4 dents\n",
    "    for i in range(4):\n",
    "        start_x = int(i * pas_pixels + pas_pixels * 0.25)\n",
    "        end_x = int((i + 1) * pas_pixels - pas_pixels * 0.25)\n",
    "        middle_x = int((start_x + end_x) / 2)\n",
    "        \n",
    "        cv2.line(pattern_image, (start_x, tooth_height - 1), (middle_x, 0), 255, 1)\n",
    "        cv2.line(pattern_image, (middle_x, 0), (end_x, tooth_height - 1), 255, 1)\n",
    "\n",
    "    if rotation:\n",
    "        pattern_image = cv2.rotate(pattern_image, cv2.ROTATE_180)\n",
    "\n",
    "    return pattern_image"
   ]
  },
  {
   "cell_type": "code",
   "execution_count": 55,
   "id": "48baac99",
   "metadata": {},
   "outputs": [
    {
     "data": {
      "text/plain": [
       "True"
      ]
     },
     "execution_count": 55,
     "metadata": {},
     "output_type": "execute_result"
    }
   ],
   "source": [
    "pattern_image = draw_tooth_pattern(image_path,diametre_reel_mm,pas_reel_mm,reference_object_mm,False)\n",
    "cv2.imwrite('pattern_image.jpg', pattern_image)"
   ]
  },
  {
   "cell_type": "code",
   "execution_count": 56,
   "id": "a5d81a44",
   "metadata": {},
   "outputs": [],
   "source": [
    "def match(template,img_path):\n",
    "    img = cv2.imread(img_path,cv2.IMREAD_GRAYSCALE)\n",
    "    w, h = template.shape[::-1]\n",
    "    res = cv2.matchTemplate(img,template,cv2.TM_CCOEFF_NORMED)\n",
    "    min_val, max_val, min_loc, max_loc = cv2.minMaxLoc(res)\n",
    "\n",
    "    top_left = max_loc\n",
    "    bottom_right = (top_left[0] + w, top_left[1] + h)\n",
    "    \n",
    "    cv2.rectangle(img,top_left, bottom_right, 255, 2)\n",
    "    \n",
    "    return img,res,max_val"
   ]
  },
  {
   "cell_type": "code",
   "execution_count": 57,
   "id": "c62a5e39",
   "metadata": {},
   "outputs": [
    {
     "data": {
      "text/plain": [
       "True"
      ]
     },
     "execution_count": 57,
     "metadata": {},
     "output_type": "execute_result"
    }
   ],
   "source": [
    "img, res, max_val = match(pattern_image, image_path)\n",
    "cv2.imwrite('matched_image.jpg', img)"
   ]
  },
  {
   "cell_type": "code",
   "execution_count": 58,
   "id": "4aea6396",
   "metadata": {},
   "outputs": [],
   "source": [
    "def extract_line_pixels(img, start_point, end_point):\n",
    "\n",
    "    num_points = abs(end_point[1] - start_point[1])  # Nombre de points basé sur la hauteur\n",
    "    x_values = np.linspace(start_point[0], end_point[0], num_points).astype(int)\n",
    "    y_values = np.linspace(start_point[1], end_point[1], num_points).astype(int)\n",
    "    \n",
    "    pixel_values = img[y_values, x_values]\n",
    "    \n",
    "    return pixel_values"
   ]
  },
  {
   "cell_type": "code",
   "execution_count": 78,
   "id": "b630cfd1",
   "metadata": {},
   "outputs": [],
   "source": [
    "def match_and_draw_normal_and_analyze(image_path, diametre_reel_mm, pas_reel_mm, reference_object_mm, rotation):\n",
    "\n",
    "    template = draw_tooth_pattern(image_path, diametre_reel_mm, pas_reel_mm, reference_object_mm, rotation)\n",
    "    img_with_rectangle, res, max_val = match(template, image_path)\n",
    "    \n",
    "    img_color = cv2.imread(image_path)  # Recharger l'image en couleur pour les opérations de flou\n",
    "    \n",
    "    taille_noyau = (5, 5)\n",
    "    sigma = 0\n",
    "    blurred_image = cv2.GaussianBlur(img_color, taille_noyau, sigma)\n",
    "    \n",
    "    gray = cv2.cvtColor(img_color, cv2.COLOR_BGR2GRAY)\n",
    "    _,thresh = cv2.threshold(gray,0,255,cv2.THRESH_BINARY+cv2.THRESH_OTSU)\n",
    "    thresh = cv2.bitwise_not(thresh)\n",
    "    \n",
    "    cv2.imwrite('try.jpg', thresh)\n",
    "    w, h = template.shape[::-1]\n",
    "    top_left = cv2.minMaxLoc(res)[3]\n",
    "    bottom_right = (top_left[0] + w, top_left[1] + h)\n",
    "    center = ((top_left[0] + bottom_right[0]) // 2, (top_left[1] + bottom_right[1]) // 2)\n",
    "    \n",
    "    length = 2000 #à ajuster\n",
    "    start_point = (center[0], center[1] - length // 2)\n",
    "    end_point = (center[0], center[1] + length // 2)\n",
    "    \n",
    "    pixel_values = extract_line_pixels(gray, start_point, end_point)\n",
    "    \n",
    "\n",
    "    return pixel_values  # Renvoyer les valeurs pour analyse"
   ]
  },
  {
   "cell_type": "code",
   "execution_count": 79,
   "id": "452600d2",
   "metadata": {},
   "outputs": [
    {
     "data": {
      "text/plain": [
       "True"
      ]
     },
     "execution_count": 79,
     "metadata": {},
     "output_type": "execute_result"
    }
   ],
   "source": [
    "img_color, res, max_val = match_and_draw_normal(image_path, diametre_reel_mm, pas_reel_mm, reference_object_mm, False)\n",
    "cv2.imwrite('matched_image_with_normal.jpg', img_color)"
   ]
  },
  {
   "cell_type": "code",
   "execution_count": 80,
   "id": "b184dcd4",
   "metadata": {},
   "outputs": [],
   "source": [
    "pixel_values = match_and_draw_normal_and_analyze(image_path, diametre_reel_mm, pas_reel_mm, reference_object_mm, False)"
   ]
  },
  {
   "cell_type": "code",
   "execution_count": 81,
   "id": "3300a685",
   "metadata": {},
   "outputs": [
    {
     "data": {
      "image/png": "[encoded data removed]",
      "text/plain": [
       "<Figure size 1000x500 with 1 Axes>"
      ]
     },
     "metadata": {},
     "output_type": "display_data"
    }
   ],
   "source": [
    "plt.figure(figsize=(10, 5))\n",
    "\n",
    "plt.plot(pixel_values, color='gray')\n",
    "    \n",
    "plt.title('Intensité des pixels le long de la ligne normale')\n",
    "plt.show()"
   ]
  },
  {
   "cell_type": "code",
   "execution_count": null,
   "id": "693ad360",
   "metadata": {},
   "outputs": [],
   "source": []
  }
 ],
 "metadata": {
  "kernelspec": {
   "display_name": "Python 3 (ipykernel)",
   "language": "python",
   "name": "python3"
  },
  "language_info": {
   "codemirror_mode": {
    "name": "ipython",
    "version": 3
   },
   "file_extension": ".py",
   "mimetype": "text/x-python",
   "name": "python",
   "nbconvert_exporter": "python",
   "pygments_lexer": "ipython3",
   "version": "3.11.5"
  }
 },
 "nbformat": 4,
 "nbformat_minor": 5
}
