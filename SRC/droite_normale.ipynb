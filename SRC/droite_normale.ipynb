{
 "cells": [
  {
   "cell_type": "code",
   "execution_count": 7,
   "id": "3ee5bb66",
   "metadata": {},
   "outputs": [],
   "source": [
    "import cv2\n",
    "import numpy as np\n",
    "from matplotlib import pyplot as plt\n",
    "import nbimporter\n",
    "from diametre_monnaie import conversion_piece\n",
    "from tooth_pattern import draw_tooth_pattern\n",
    "from tooth_pattern import match"
   ]
  },
  {
   "cell_type": "code",
   "execution_count": 8,
   "id": "3761e5fa",
   "metadata": {},
   "outputs": [],
   "source": [
    "image_path = '../DataBase/image10.jpg' \n",
    "\n",
    "reference_object_mm = 22.6  # diamètre de la pièce de monnaie en mm \n",
    "\n",
    "# Les dimensions réelles en millimètres de la piece \n",
    "\n",
    "diametre_reel_mm = 20  # Diamètre réel du filetage en mm  \n",
    "pas_reel_mm = 25.4 / 14 # Pas réel du filetage en mm"
   ]
  },
  {
   "cell_type": "code",
   "execution_count": 9,
   "id": "4aea6396",
   "metadata": {},
   "outputs": [],
   "source": [
    "def extract_line_pixels(img, start_point, end_point):\n",
    "    height, width = img.shape[:2]  # Obtenir les dimensions de l'image\n",
    "    num_points = max(abs(end_point[1] - start_point[1]), abs(end_point[0] - start_point[0]))\n",
    "    \n",
    "    x_values = np.linspace(start_point[0], end_point[0], num=num_points, endpoint=False).astype(int)\n",
    "    y_values = np.linspace(start_point[1], end_point[1], num=num_points, endpoint=False).astype(int)\n",
    "    \n",
    "    x_values = np.clip(x_values, 0, width-1)\n",
    "    y_values = np.clip(y_values, 0, height-1)\n",
    "    \n",
    "    pixel_values = img[y_values, x_values]\n",
    "    \n",
    "    return pixel_values"
   ]
  },
  {
   "cell_type": "code",
   "execution_count": 10,
   "id": "7cbc44fc",
   "metadata": {},
   "outputs": [],
   "source": [
    "def match_and_draw_normal_and_analyze(image_path, pas_reel_mm, reference_object_mm, rotation):\n",
    "\n",
    "    template = draw_tooth_pattern(image_path, pas_reel_mm, reference_object_mm, rotation)\n",
    "    img_with_rectangle, res, max_val = match(template, image_path)\n",
    "    \n",
    "    img_color = cv2.imread(image_path)\n",
    "    \n",
    "    img_filtered = cv2.bilateralFilter(img_color, d=9, sigmaColor=75, sigmaSpace=75)\n",
    "    \n",
    "    gray = cv2.cvtColor(img_filtered, cv2.COLOR_BGR2GRAY)\n",
    "    \n",
    "    clahe = cv2.createCLAHE(clipLimit=2.0, tileGridSize=(8, 8))\n",
    "    gray_clahe = clahe.apply(gray)\n",
    "    \n",
    "    thresh = cv2.adaptiveThreshold(gray_clahe, 255, cv2.ADAPTIVE_THRESH_GAUSSIAN_C, \n",
    "                                   cv2.THRESH_BINARY, 11, 2)\n",
    "    thresh = cv2.bitwise_not(thresh)\n",
    "    \n",
    "    cv2.imwrite('try.jpg', thresh)\n",
    "    w, h = template.shape[::-1]\n",
    "    top_left = cv2.minMaxLoc(res)[3]\n",
    "    bottom_right = (top_left[0] + w, top_left[1] + h)\n",
    "    center = ((top_left[0] + bottom_right[0]) // 2, (top_left[1] + bottom_right[1]) // 2)\n",
    "    \n",
    "    length = 2000 #à ajuster\n",
    "    start_point = (center[0], center[1] - length // 2)\n",
    "    end_point = (center[0], center[1] + length // 2)\n",
    "    \n",
    "    pixel_values = extract_line_pixels(gray, start_point, end_point)\n",
    "    \n",
    "    return pixel_values"
   ]
  },
  {
   "cell_type": "code",
   "execution_count": null,
   "id": "693ad360",
   "metadata": {},
   "outputs": [],
   "source": [
    "def diameter_filtage(pixel_values,image_path):\n",
    "    cnp = conversion_piece(image_path,22.6)\n",
    "    max_diff = 8\n",
    "    begin = 0\n",
    "    end = len(pixel_values) - 1\n",
    "\n",
    "    pixel_values = np.array(pixel_values, dtype=np.int64)\n",
    "\n",
    "    for i in range(len(pixel_values) - 1):\n",
    "        diff = abs(int(pixel_values[i]) - int(pixel_values[i + 1]))\n",
    "        if diff > max_diff:\n",
    "            begin = i + 1\n",
    "            break\n",
    "\n",
    "    for i in range(len(pixel_values) - 1, 0, -1):\n",
    "        diff = abs(int(pixel_values[i]) - int(pixel_values[i - 1]))\n",
    "        if diff > max_diff:\n",
    "            end = i\n",
    "            break \n",
    "\n",
    "    return (end - begin) * cnp"
   ]
  },
  {
   "cell_type": "markdown",
   "id": "3671ce7f",
   "metadata": {},
   "source": []
  },
  {
   "cell_type": "code",
   "execution_count": null,
   "id": "740923da",
   "metadata": {},
   "outputs": [],
   "source": [
    "#methode ombre shadow removal modele de machine learning"
   ]
  },
  {
   "cell_type": "code",
   "execution_count": null,
   "id": "934056e3",
   "metadata": {},
   "outputs": [],
   "source": []
  }
 ],
 "metadata": {
  "kernelspec": {
   "display_name": "Python 3 (ipykernel)",
   "language": "python",
   "name": "python3"
  },
  "language_info": {
   "codemirror_mode": {
    "name": "ipython",
    "version": 3
   },
   "file_extension": ".py",
   "mimetype": "text/x-python",
   "name": "python",
   "nbconvert_exporter": "python",
   "pygments_lexer": "ipython3",
   "version": "3.11.5"
  }
 },
 "nbformat": 4,
 "nbformat_minor": 5
}
