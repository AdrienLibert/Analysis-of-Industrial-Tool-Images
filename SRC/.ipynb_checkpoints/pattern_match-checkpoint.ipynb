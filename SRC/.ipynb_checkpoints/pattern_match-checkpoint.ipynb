{
 "cells": [
  {
   "cell_type": "code",
   "execution_count": 7,
   "id": "4dddf88b",
   "metadata": {},
   "outputs": [],
   "source": [
    "import cv2\n",
    "import numpy as np\n",
    "from matplotlib import pyplot as plt\n",
    "import nbimporter\n",
    "from diametre_monnaie import conversion_piece"
   ]
  },
  {
   "cell_type": "code",
   "execution_count": 14,
   "id": "6bad77b5",
   "metadata": {},
   "outputs": [],
   "source": [
    "image_path = '../DataBase/image7.jpg' \n",
    "\n",
    "size_pixels = conversion_piece(image_path,22.6)\n",
    "\n",
    "# Les dimensions réelles en millimètres\n",
    "reference_object_real_world_mm = 22.6  # diamètre de la pièce de monnaie en mm\n",
    "diametre_reel_mm = 18  # Diamètre réel du filetage en mm\n",
    "pas_reel_mm = 1   # Pas réel du filetage en mm\n",
    "longueur_cm = 10  # Longueur des lignes horizontales en mm\n",
    "depassement_mm = 0.2 # Pas réel du filetage en mm\n",
    "\n",
    "pas_reel_mm = 25.4 / 14"
   ]
  },
  {
   "cell_type": "code",
   "execution_count": 22,
   "id": "fe1dfb23",
   "metadata": {},
   "outputs": [
    {
     "name": "stdout",
     "output_type": "stream",
     "text": [
      "38.854614412136534\n"
     ]
    }
   ],
   "source": [
    "# Convertir les mesures réelles en pixels\n",
    "pas_pixels = (pas_reel_mm / size_pixels)\n",
    "cm_pixels = (longueur_cm / size_pixels)\n",
    "depassement_mm_pixel = (depassement_mm / size_pixels)\n",
    "diametre_pixels = (diametre_reel_mm / size_pixels)\n",
    "print(pas_pixels)"
   ]
  },
  {
   "cell_type": "code",
   "execution_count": 24,
   "id": "43966925",
   "metadata": {},
   "outputs": [
    {
     "data": {
      "text/plain": [
       "True"
      ]
     },
     "execution_count": 24,
     "metadata": {},
     "output_type": "execute_result"
    }
   ],
   "source": [
    "# Créer une image noire qui servira de base pour le pattern\n",
    "pattern_height = int(diametre_pixels)  # Hauteur du pattern basée sur le diamètre en pixels\n",
    "pattern_width = int(cm_pixels)   # Largeur du pattern basée sur le pas en pixels\n",
    "depassement = int(depassement_mm_pixel) # Nombre de pixels que les verticales dépassent des horizontales\n",
    "\n",
    "pattern_image = np.zeros((pattern_height, pattern_width), dtype=np.uint8)\n",
    "\n",
    "# Dessiner les deux lignes horizontales\n",
    "cv2.line(pattern_image, (0, depassement), (pattern_width, depassement), (255), 1)\n",
    "cv2.line(pattern_image, (0, pattern_height - 1 - depassement), (pattern_width, pattern_height - 1 - depassement), (255), 1)\n",
    "\n",
    "# Dessiner les segments verticaux entre les lignes horizontales\n",
    "for x in range(0, pattern_width, int(pas_pixels)):\n",
    "    cv2.line(pattern_image, (x, 0), (x, pattern_height - 1), (255), 1)\n",
    "\n",
    "# Sauvegarder l'image du pattern\n",
    "cv2.imwrite('pattern_image.jpg', pattern_image)"
   ]
  },
  {
   "cell_type": "code",
   "execution_count": 27,
   "id": "4fcc5985",
   "metadata": {},
   "outputs": [],
   "source": [
    "def template(image_path,diametre_reel_mm,pas_reel_mm,longueur_cm,depassement_mm):\n",
    "    \n",
    "    size_pixels = conversion_piece(image_path,22.6)\n",
    "\n",
    "    pas_pixels = (pas_reel_mm / size_pixels)\n",
    "    cm_pixels = (longueur_cm / size_pixels)\n",
    "    depassement_mm_pixel = (depassement_mm / size_pixels)\n",
    "    diametre_pixels = (diametre_reel_mm / size_pixels)\n",
    "    \n",
    "    pattern_height = int(diametre_pixels)  # Hauteur du pattern basée sur le diamètre en pixels\n",
    "    pattern_width = int(cm_pixels)   # Largeur du pattern basée sur le pas en pixels\n",
    "    depassement = int(depassement_mm_pixel) # Nombre de pixels que les verticales dépassent des horizontales\n",
    "\n",
    "    pattern_image = np.zeros((pattern_height, pattern_width), dtype=np.uint8)\n",
    "\n",
    "    # Dessiner les deux lignes horizontales\n",
    "    cv2.line(pattern_image, (0, depassement), (pattern_width, depassement), (255), 1)\n",
    "    cv2.line(pattern_image, (0, pattern_height - 1 - depassement), (pattern_width, pattern_height - 1 - depassement), (255), 1)\n",
    "\n",
    "    # Dessiner les segments verticaux entre les lignes horizontales\n",
    "    for x in range(0, pattern_width, int(pas_pixels)):\n",
    "        cv2.line(pattern_image, (x, 0), (x, pattern_height - 1), (255), 1)\n",
    "    return pattern_image"
   ]
  },
  {
   "cell_type": "code",
   "execution_count": null,
   "id": "3cae4659",
   "metadata": {},
   "outputs": [],
   "source": [
    "#Phase de template\n",
    "img = cv2.imread('BDD/image7.jpg', cv2.IMREAD_GRAYSCALE)\n",
    "assert img is not None, \"file could not be read, check with os.path.exists()\"\n",
    "template = cv2.imread('Test/pattern_image.jpg', cv2.IMREAD_GRAYSCALE)\n",
    "assert template is not None, \"file could not be read, check with os.path.exists()\"\n",
    "w, h = template.shape[::-1]\n",
    "\n",
    "# Effectuer le template matching\n",
    "res = cv2.matchTemplate(img,template,cv2.TM_CCOEFF_NORMED)\n",
    "min_val, max_val, min_loc, max_loc = cv2.minMaxLoc(res)\n",
    "\n",
    "top_left = max_loc\n",
    "bottom_right = (top_left[0] + w, top_left[1] + h)\n",
    "\n",
    "cv2.rectangle(img,top_left, bottom_right, 255, 2)\n",
    "plt.subplot(121),plt.imshow(res,cmap = 'gray')\n",
    "plt.title('Matching Result'), plt.xticks([]), plt.yticks([])\n",
    "plt.subplot(122),plt.imshow(img,cmap = 'gray')\n",
    "plt.title('Detected Point'), plt.xticks([]), plt.yticks([])\n",
    "\n",
    "plt.show()"
   ]
  }
 ],
 "metadata": {
  "kernelspec": {
   "display_name": "Python 3 (ipykernel)",
   "language": "python",
   "name": "python3"
  },
  "language_info": {
   "codemirror_mode": {
    "name": "ipython",
    "version": 3
   },
   "file_extension": ".py",
   "mimetype": "text/x-python",
   "name": "python",
   "nbconvert_exporter": "python",
   "pygments_lexer": "ipython3",
   "version": "3.11.5"
  }
 },
 "nbformat": 4,
 "nbformat_minor": 5
}
