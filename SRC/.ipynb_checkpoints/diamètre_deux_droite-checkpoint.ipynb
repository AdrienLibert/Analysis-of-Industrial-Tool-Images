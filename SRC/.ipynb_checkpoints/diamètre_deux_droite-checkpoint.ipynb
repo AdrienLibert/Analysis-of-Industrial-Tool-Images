{
 "cells": [
  {
   "cell_type": "code",
   "execution_count": 46,
   "id": "e87b1f60",
   "metadata": {},
   "outputs": [],
   "source": [
    "import cv2\n",
    "import numpy as np\n",
    "from matplotlib import pyplot as plt\n",
    "import nbimporter\n",
    "from diametre_monnaie import conversion_piece\n",
    "from tooth_pattern import draw_tooth_pattern\n",
    "from tooth_pattern import match_top_bottom"
   ]
  },
  {
   "cell_type": "code",
   "execution_count": 47,
   "id": "30128259",
   "metadata": {},
   "outputs": [],
   "source": [
    "image_path = '../DataBase/image7.jpg' \n",
    "\n",
    "reference_object_mm = 22.6  # diamètre de la pièce de monnaie en mm \n",
    "\n",
    "# Les dimensions réelles en millimètres de la piece \n",
    "\n",
    "diametre_reel_mm = 20  # Diamètre réel du filetage en mm  \n",
    "pas_reel_mm = 25.4 / 14 # Pas réel du filetage en mm"
   ]
  },
  {
   "cell_type": "code",
   "execution_count": 48,
   "id": "86a67198",
   "metadata": {},
   "outputs": [],
   "source": [
    "def segments(img, top_left_top, bottom_right_bottom):\n",
    "    line_length = 300\n",
    "    \n",
    "    line_top_start = (max(top_left_top[0] - line_length, 0), top_left_top[1])\n",
    "    line_top_end = (min(top_left_top[0] + line_length, img.shape[1]), top_left_top[1])\n",
    "    \n",
    "    line_bottom_start = (max(bottom_right_bottom[0] - line_length, 0), bottom_right_bottom[1])\n",
    "    line_bottom_end = (min(bottom_right_bottom[0] + line_length, img.shape[1]), bottom_right_bottom[1])\n",
    "    \n",
    "    cv2.line(img, line_top_start, line_top_end, 255, 2)\n",
    "    cv2.line(img, line_bottom_start, line_bottom_end, 255, 2)\n",
    "    \n",
    "    diametre = abs(line_top_start[1] - line_bottom_start[1])\n",
    "    \n",
    "\n",
    "    cv2.line(img, (line_top_start[0]+200, line_top_start[1]), (line_top_start[0]+200, line_bottom_start[1]), 255, 2)\n",
    "    \n",
    "    return img,diametre"
   ]
  },
  {
   "cell_type": "code",
   "execution_count": 49,
   "id": "b40a4cbf",
   "metadata": {},
   "outputs": [
    {
     "data": {
      "text/plain": [
       "True"
      ]
     },
     "execution_count": 49,
     "metadata": {},
     "output_type": "execute_result"
    }
   ],
   "source": [
    "pattern_image = draw_tooth_pattern(image_path,pas_reel_mm,reference_object_mm,False)\n",
    "pattern_image_r = draw_tooth_pattern(image_path,pas_reel_mm,reference_object_mm,True)\n",
    "image_fusionnee, (res_top, res_bottom), (max_val_top, max_val_bottom),top_left_top,bottom_right_bottom = match_top_bottom(pattern_image,pattern_image_r, image_path)    \n",
    "\n",
    "img_segments,diametre = segments(\n",
    "        image_fusionnee, \n",
    "        top_left_top, bottom_right_bottom\n",
    "    )\n",
    "output_path = 'diametre.jpg'\n",
    "cv2.imwrite(output_path, img_segments)"
   ]
  },
  {
   "cell_type": "code",
   "execution_count": 50,
   "id": "e384fdb1",
   "metadata": {},
   "outputs": [
    {
     "name": "stdout",
     "output_type": "stream",
     "text": [
      "445\n"
     ]
    },
    {
     "data": {
      "text/plain": [
       "20.778925619834713"
      ]
     },
     "execution_count": 50,
     "metadata": {},
     "output_type": "execute_result"
    }
   ],
   "source": [
    "print(diametre)\n",
    "pixel = conversion_piece(image_path,reference_object_mm)\n",
    "diametre * pixel"
   ]
  },
  {
   "cell_type": "code",
   "execution_count": null,
   "id": "86fde806",
   "metadata": {},
   "outputs": [],
   "source": []
  }
 ],
 "metadata": {
  "kernelspec": {
   "display_name": "Python 3 (ipykernel)",
   "language": "python",
   "name": "python3"
  },
  "language_info": {
   "codemirror_mode": {
    "name": "ipython",
    "version": 3
   },
   "file_extension": ".py",
   "mimetype": "text/x-python",
   "name": "python",
   "nbconvert_exporter": "python",
   "pygments_lexer": "ipython3",
   "version": "3.11.5"
  }
 },
 "nbformat": 4,
 "nbformat_minor": 5
}
