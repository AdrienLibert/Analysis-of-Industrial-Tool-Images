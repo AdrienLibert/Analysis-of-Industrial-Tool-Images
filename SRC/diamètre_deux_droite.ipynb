{
 "cells": [
  {
   "cell_type": "code",
   "execution_count": 1,
   "id": "e87b1f60",
   "metadata": {},
   "outputs": [],
   "source": [
    "import cv2\n",
    "import numpy as np\n",
    "from matplotlib import pyplot as plt\n",
    "import nbimporter\n",
    "from diametre_monnaie import conversion_piece\n",
    "from tooth_pattern import draw_tooth_pattern\n",
    "from tooth_pattern import match_top_bottom"
   ]
  },
  {
   "cell_type": "code",
   "execution_count": 2,
   "id": "86a67198",
   "metadata": {},
   "outputs": [],
   "source": [
    "def expand_rectangle_segments(img, top_left_top, bottom_right_top, top_left_bottom, bottom_right_bottom, expand_top=10, expand_bottom=10):\n",
    "\n",
    "    top_left_top_expanded = (top_left_top[0], max(top_left_top[1] - expand_top, 0))\n",
    "    bottom_right_top_expanded = (bottom_right_top[0], bottom_right_top[1])\n",
    "    \n",
    "    top_left_bottom_expanded = (top_left_bottom[0], top_left_bottom[1])\n",
    "    bottom_right_bottom_expanded = (bottom_right_bottom[0], min(bottom_right_bottom[1] + expand_bottom, img.shape[0]))\n",
    "    \n",
    "    cv2.rectangle(img, top_left_top_expanded, bottom_right_top_expanded, (255, 0, 0), 2)  # Bleu pour le haut\n",
    "    cv2.rectangle(img, top_left_bottom_expanded, bottom_right_bottom_expanded, (0, 255, 0), 2)  # Vert pour le bas\n",
    "    \n",
    "    return img\n"
   ]
  },
  {
   "cell_type": "code",
   "execution_count": null,
   "id": "b40a4cbf",
   "metadata": {},
   "outputs": [],
   "source": []
  }
 ],
 "metadata": {
  "kernelspec": {
   "display_name": "Python 3 (ipykernel)",
   "language": "python",
   "name": "python3"
  },
  "language_info": {
   "codemirror_mode": {
    "name": "ipython",
    "version": 3
   },
   "file_extension": ".py",
   "mimetype": "text/x-python",
   "name": "python",
   "nbconvert_exporter": "python",
   "pygments_lexer": "ipython3",
   "version": "3.11.5"
  }
 },
 "nbformat": 4,
 "nbformat_minor": 5
}
