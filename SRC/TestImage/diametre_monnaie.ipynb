{
 "cells": [
  {
   "cell_type": "code",
   "execution_count": 1,
   "id": "74e0480f",
   "metadata": {},
   "outputs": [],
   "source": [
    "import cv2 \n",
    "import numpy as np"
   ]
  },
  {
   "cell_type": "markdown",
   "id": "1760719e",
   "metadata": {},
   "source": [
    "Fonction pour le diamètre de la pièce de monnaie"
   ]
  },
  {
   "cell_type": "code",
   "execution_count": 2,
   "id": "42c6b057",
   "metadata": {},
   "outputs": [],
   "source": [
    "def conversion_piece(image_path,taille_piece):\n",
    "    image = cv2.imread(image_path)#charge image\n",
    "    if image is None:\n",
    "        raise ValueError(\"L'image n'a pas pu être chargée.\")\n",
    "    \n",
    "    taille_noyau = (5, 5)\n",
    "    sigma = 0\n",
    "    blurred_image = cv2.GaussianBlur(image, taille_noyau, sigma)\n",
    "    \n",
    "    \n",
    "    gray = cv2.cvtColor(blurred_image, cv2.COLOR_BGR2GRAY)\n",
    "    _,thresh = cv2.threshold(gray,0,255,cv2.THRESH_BINARY+cv2.THRESH_OTSU)\n",
    "    thresh = cv2.bitwise_not(thresh)\n",
    "\n",
    "    element = cv2.getStructuringElement(shape=cv2.MORPH_RECT, ksize=(5, 5))\n",
    "\n",
    "    morph_img = thresh.copy()\n",
    "    cv2.morphologyEx(src=thresh, op=cv2.MORPH_CLOSE, kernel=element, dst=morph_img)\n",
    "\n",
    "    contours,_ = cv2.findContours(morph_img,cv2.RETR_TREE,cv2.CHAIN_APPROX_SIMPLE) #trouver les contours\n",
    "\n",
    "    output_image = cv2.cvtColor(morph_img, cv2.COLOR_GRAY2BGR)# préparer l'image de sortie\n",
    "\n",
    "    height, width = morph_img.shape[:2]# dimensions de l'image\n",
    "\n",
    "    y_limit1 = height - 800 #limite\n",
    "    y_limit2 = 800\n",
    "\n",
    "    max_contour = None #contour et aire\n",
    "    max_area = 0\n",
    "\n",
    "    for cnt in contours: #on cherche dans la zone les contours\n",
    "        (x, y), radius = cv2.minEnclosingCircle(cnt)\n",
    "        center = (int(x), int(y))\n",
    "        if (center[1] > y_limit1 or center[1] < y_limit2):\n",
    "            area = cv2.contourArea(cnt)\n",
    "            if area > max_area:\n",
    "                max_area = area\n",
    "                max_contour = cnt\n",
    "                \n",
    "    if max_contour is not None:\n",
    "        (x, y), radius = cv2.minEnclosingCircle(max_contour)\n",
    "        diameter = 2 * int(radius)\n",
    "    else:\n",
    "        diameter = 0\n",
    "\n",
    "    return taille_piece/diameter #diametre"
   ]
  },
  {
   "cell_type": "markdown",
   "id": "61abe7f9",
   "metadata": {},
   "source": [
    "Brouillon test des fonctions OpenCV pour la pièce de monnaie"
   ]
  },
  {
   "cell_type": "code",
   "execution_count": 3,
   "id": "c234d801",
   "metadata": {},
   "outputs": [
    {
     "name": "stdout",
     "output_type": "stream",
     "text": [
      "Estimated in pixels: 0.005937992643194956\n"
     ]
    }
   ],
   "source": [
    "image_path = '../DataBase/test1.jpg'\n",
    "conversion = conversion_piece(image_path,22.6)\n",
    "print(f\"Estimated in pixels: {conversion}\")"
   ]
  },
  {
   "cell_type": "code",
   "execution_count": 4,
   "id": "1d51effe",
   "metadata": {},
   "outputs": [],
   "source": [
    "image_path = '../DataBase/image3.jpg'\n",
    "image = cv2.imread(image_path)"
   ]
  },
  {
   "cell_type": "code",
   "execution_count": 4,
   "id": "5634d5f3",
   "metadata": {},
   "outputs": [
    {
     "ename": "NameError",
     "evalue": "name 'image' is not defined",
     "output_type": "error",
     "traceback": [
      "\u001b[1;31m---------------------------------------------------------------------------\u001b[0m",
      "\u001b[1;31mNameError\u001b[0m                                 Traceback (most recent call last)",
      "Cell \u001b[1;32mIn[4], line 3\u001b[0m\n\u001b[0;32m      1\u001b[0m taille_noyau \u001b[38;5;241m=\u001b[39m (\u001b[38;5;241m5\u001b[39m, \u001b[38;5;241m5\u001b[39m)\n\u001b[0;32m      2\u001b[0m sigma \u001b[38;5;241m=\u001b[39m \u001b[38;5;241m0\u001b[39m\n\u001b[1;32m----> 3\u001b[0m image \u001b[38;5;241m=\u001b[39m cv2\u001b[38;5;241m.\u001b[39mGaussianBlur(image, taille_noyau, sigma)\n\u001b[0;32m      5\u001b[0m gray_image \u001b[38;5;241m=\u001b[39m cv2\u001b[38;5;241m.\u001b[39mcvtColor(image, cv2\u001b[38;5;241m.\u001b[39mCOLOR_BGR2GRAY)\n\u001b[0;32m      6\u001b[0m th \u001b[38;5;241m=\u001b[39m cv2\u001b[38;5;241m.\u001b[39madaptiveThreshold(gray_image,\u001b[38;5;241m255\u001b[39m,cv2\u001b[38;5;241m.\u001b[39mADAPTIVE_THRESH_GAUSSIAN_C,cv2\u001b[38;5;241m.\u001b[39mTHRESH_BINARY,\u001b[38;5;241m71\u001b[39m,\u001b[38;5;241m17\u001b[39m)\n",
      "\u001b[1;31mNameError\u001b[0m: name 'image' is not defined"
     ]
    }
   ],
   "source": [
    "taille_noyau = (5, 5)\n",
    "sigma = 0\n",
    "image = cv2.GaussianBlur(image, taille_noyau, sigma)\n",
    "\n",
    "gray_image = cv2.cvtColor(image, cv2.COLOR_BGR2GRAY)\n",
    "th = cv2.adaptiveThreshold(gray_image,255,cv2.ADAPTIVE_THRESH_GAUSSIAN_C,cv2.THRESH_BINARY,71,17)\n",
    "edges = cv2.adaptiveThreshold(th, 255, cv2.ADAPTIVE_THRESH_MEAN_C, cv2.THRESH_BINARY_INV, 3, 2)"
   ]
  },
  {
   "cell_type": "code",
   "execution_count": null,
   "id": "b46efae1",
   "metadata": {},
   "outputs": [],
   "source": [
    "contours, hierarchy = cv2.findContours(edges, cv2.RETR_EXTERNAL, cv2.CHAIN_APPROX_SIMPLE)\n",
    "\n",
    "output_image = cv2.cvtColor(edges, cv2.COLOR_GRAY2BGR)"
   ]
  },
  {
   "cell_type": "code",
   "execution_count": 1,
   "id": "8758ac04",
   "metadata": {},
   "outputs": [
    {
     "ename": "NameError",
     "evalue": "name 'edges' is not defined",
     "output_type": "error",
     "traceback": [
      "\u001b[1;31m---------------------------------------------------------------------------\u001b[0m",
      "\u001b[1;31mNameError\u001b[0m                                 Traceback (most recent call last)",
      "Cell \u001b[1;32mIn[1], line 1\u001b[0m\n\u001b[1;32m----> 1\u001b[0m height \u001b[38;5;241m=\u001b[39m edges\u001b[38;5;241m.\u001b[39mshape[\u001b[38;5;241m0\u001b[39m]\n\u001b[0;32m      2\u001b[0m width \u001b[38;5;241m=\u001b[39m edges\u001b[38;5;241m.\u001b[39mshape[\u001b[38;5;241m1\u001b[39m]\n\u001b[0;32m      4\u001b[0m x_limit \u001b[38;5;241m=\u001b[39m width\n",
      "\u001b[1;31mNameError\u001b[0m: name 'edges' is not defined"
     ]
    }
   ],
   "source": [
    "height = edges.shape[0]\n",
    "width = edges.shape[1]\n",
    "\n",
    "x_limit = width\n",
    "y_limit = height - 800\n",
    "top_left = (0, y_limit)\n",
    "bottom_right = (x_limit, height)\n",
    "cv2.rectangle(output_image, top_left, bottom_right, (255, 0, 0), 2)\n",
    "\n",
    "y_limit2 = 800\n",
    "top_left2 = (0, 0)\n",
    "bottom_right2 = (x_limit, y_limit2)\n",
    "cv2.rectangle(output_image, top_left2, bottom_right2, (255, 0, 0), 2)\n",
    "\n",
    "max_contour = None\n",
    "max_area = 0\n",
    "\n",
    "for cnt in contours:\n",
    "    (x, y), radius = cv2.minEnclosingCircle(cnt)\n",
    "    center = (int(x), int(y))\n",
    "    radius = int(radius)\n",
    "    if (center[1] > y_limit or center[1] < y_limit2):\n",
    "        area = cv2.contourArea(cnt)\n",
    "        if area > max_area:\n",
    "            max_area = area\n",
    "            max_contour = cnt\n",
    "            \n",
    "if max_contour is not None:\n",
    "    (x, y), radius = cv2.minEnclosingCircle(max_contour)\n",
    "    center = (int(x), int(y))\n",
    "    radius = int(radius)\n",
    "    diameter = 2 * radius\n",
    "    cv2.circle(output_image, center, radius, (0, 255, 0), 2)\n",
    "    cv2.circle(output_image, center, 1, (0, 0, 255), 3)\n",
    "    start_point = (int(x - radius), int(y))\n",
    "    end_point = (int(x + radius), int(y))\n",
    "    cv2.line(output_image, start_point, end_point, (255, 0, 0), 2)\n",
    "\n",
    "cv2.imwrite('output_image_test.png', output_image)\n",
    "print(f\"Estimated diameter in pixels: {diameter}\")"
   ]
  },
  {
   "cell_type": "code",
   "execution_count": null,
   "id": "650af6e9",
   "metadata": {},
   "outputs": [],
   "source": []
  }
 ],
 "metadata": {
  "kernelspec": {
   "display_name": "Python 3 (ipykernel)",
   "language": "python",
   "name": "python3"
  },
  "language_info": {
   "codemirror_mode": {
    "name": "ipython",
    "version": 3
   },
   "file_extension": ".py",
   "mimetype": "text/x-python",
   "name": "python",
   "nbconvert_exporter": "python",
   "pygments_lexer": "ipython3",
   "version": "3.11.5"
  }
 },
 "nbformat": 4,
 "nbformat_minor": 5
}
