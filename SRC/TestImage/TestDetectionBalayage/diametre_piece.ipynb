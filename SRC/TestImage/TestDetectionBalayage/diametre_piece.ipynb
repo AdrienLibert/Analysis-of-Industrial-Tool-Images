{
 "cells": [
  {
   "cell_type": "code",
   "execution_count": 1,
   "id": "7e9a2fb1",
   "metadata": {},
   "outputs": [],
   "source": [
    "import cv2 \n",
    "import numpy as np"
   ]
  },
  {
   "cell_type": "code",
   "execution_count": 2,
   "id": "30ef7bc6",
   "metadata": {},
   "outputs": [],
   "source": [
    "image_path = '../DataBase/image3.jpg'\n",
    "image = cv2.imread(image_path)"
   ]
  },
  {
   "cell_type": "code",
   "execution_count": 3,
   "id": "35fa37c9",
   "metadata": {},
   "outputs": [],
   "source": [
    "taille_noyau = (5, 5)\n",
    "sigma = 0\n",
    "image = cv2.GaussianBlur(image, taille_noyau, sigma)\n",
    "\n",
    "gray_image = cv2.cvtColor(image, cv2.COLOR_BGR2GRAY)\n",
    "th = cv2.adaptiveThreshold(gray_image,255,cv2.ADAPTIVE_THRESH_GAUSSIAN_C,cv2.THRESH_BINARY,71,17)\n",
    "edges = cv2.adaptiveThreshold(th, 255, cv2.ADAPTIVE_THRESH_MEAN_C, cv2.THRESH_BINARY_INV, 3, 2)"
   ]
  },
  {
   "cell_type": "code",
   "execution_count": 4,
   "id": "4f3de93b",
   "metadata": {},
   "outputs": [],
   "source": [
    "contours, hierarchy = cv2.findContours(edges, cv2.RETR_EXTERNAL, cv2.CHAIN_APPROX_SIMPLE)\n",
    "\n",
    "output_image = cv2.cvtColor(edges, cv2.COLOR_GRAY2BGR)"
   ]
  },
  {
   "cell_type": "code",
   "execution_count": 5,
   "id": "c344e8db",
   "metadata": {},
   "outputs": [],
   "source": [
    "def mark_first_white_pixel_in_region(edges):\n",
    "    height, width = edges.shape\n",
    "    x_limit = width\n",
    "    y_limit = height - 800\n",
    "    top_left = (0, 800)\n",
    "    bottom_right = (x_limit, y_limit)\n",
    "    output_image = cv2.cvtColor(edges, cv2.COLOR_GRAY2BGR)\n",
    "    cv2.rectangle(output_image, top_left, bottom_right, (255, 0, 0), 2)\n",
    "\n",
    "    x = width - 1\n",
    "    first_white_pixel = None\n",
    "\n",
    "    while x >= 0:\n",
    "        y = top_left[1]\n",
    "        while y < y_limit:\n",
    "            if edges[y, x] == 255:\n",
    "                first_white_pixel = (x-80, y)\n",
    "                break\n",
    "            y += 1\n",
    "        if first_white_pixel:\n",
    "            break\n",
    "        x -= 1\n",
    "\n",
    "    if first_white_pixel:\n",
    "        cv2.circle(output_image, first_white_pixel, radius=10, color=(0, 0, 255), thickness=-1)\n",
    "\n",
    "    marked_image_path = 'output_image_test.png'\n",
    "    cv2.imwrite(marked_image_path, output_image)\n",
    "\n",
    "    return first_white_pixel\n",
    "\n"
   ]
  },
  {
   "cell_type": "code",
   "execution_count": 6,
   "id": "301be5ee",
   "metadata": {},
   "outputs": [],
   "source": [
    "y = mark_first_white_pixel_in_region(edges)"
   ]
  },
  {
   "cell_type": "code",
   "execution_count": 7,
   "id": "52da5fc9",
   "metadata": {},
   "outputs": [],
   "source": [
    "def mark_pixel_in_region(h,edges):\n",
    "    height, width = edges.shape\n",
    "    x_limit = width\n",
    "    y_limit = height - 800\n",
    "    top_left = (0, 800)\n",
    "    bottom_right = (x_limit, y_limit)\n",
    "    output_image = cv2.cvtColor(edges, cv2.COLOR_GRAY2BGR)\n",
    "    cv2.rectangle(output_image, top_left, bottom_right, (255, 0, 0), 2)\n",
    "\n",
    "    y = 0\n",
    "    first_white_pixel = None\n",
    "    min = height\n",
    "    while y < h[1]:\n",
    "        if edges[y, h[0]] == 255:\n",
    "            if min > y:\n",
    "                white_pixel = (h[0], y)\n",
    "                cv2.circle(output_image, white_pixel, radius=10, color=(0, 0, 255), thickness=-1)\n",
    "                min = y\n",
    "        y += 1\n",
    "\n",
    "    y = h[1]\n",
    "    max = 0\n",
    "    while y < y_limit:\n",
    "        if edges[y, h[0]] == 255:\n",
    "            if max < y:  \n",
    "                max = y\n",
    "        y += 1\n",
    "    white_pixel = (h[0], max)\n",
    "    cv2.circle(output_image, white_pixel, radius=10, color=(0, 0, 255), thickness=-1)\n",
    "\n",
    "\n",
    "        \n",
    "    marked_image_path = 'output_image_test.png'\n",
    "    cv2.imwrite(marked_image_path, output_image)\n",
    "\n",
    "    return max - min\n"
   ]
  },
  {
   "cell_type": "code",
   "execution_count": 8,
   "id": "8c747463",
   "metadata": {},
   "outputs": [
    {
     "data": {
      "text/plain": [
       "232"
      ]
     },
     "execution_count": 8,
     "metadata": {},
     "output_type": "execute_result"
    }
   ],
   "source": [
    "mark_pixel_in_region(y,edges)"
   ]
  },
  {
   "cell_type": "code",
   "execution_count": null,
   "id": "3a05ea7c",
   "metadata": {},
   "outputs": [],
   "source": []
  }
 ],
 "metadata": {
  "kernelspec": {
   "display_name": "Python 3 (ipykernel)",
   "language": "python",
   "name": "python3"
  },
  "language_info": {
   "codemirror_mode": {
    "name": "ipython",
    "version": 3
   },
   "file_extension": ".py",
   "mimetype": "text/x-python",
   "name": "python",
   "nbconvert_exporter": "python",
   "pygments_lexer": "ipython3",
   "version": "3.11.5"
  }
 },
 "nbformat": 4,
 "nbformat_minor": 5
}
