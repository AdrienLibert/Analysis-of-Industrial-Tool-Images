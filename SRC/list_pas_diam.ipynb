{
 "cells": [
  {
   "cell_type": "code",
   "execution_count": 7,
   "id": "21aeb656",
   "metadata": {},
   "outputs": [],
   "source": [
    "import pandas as pd\n",
    "from pattern_match import conversion_piece"
   ]
  },
  {
   "cell_type": "code",
   "execution_count": 8,
   "id": "7ed6d19f",
   "metadata": {},
   "outputs": [],
   "source": [
    "df = pd.read_csv('TableauConversion/Tableau_conversion.csv')"
   ]
  },
  {
   "cell_type": "code",
   "execution_count": 18,
   "id": "294ef65d",
   "metadata": {},
   "outputs": [],
   "source": [
    "def pattern_list(df):\n",
    "    l = []\n",
    "    for index, row in df.iterrows():\n",
    "        diam_mm = row['Diam_mm']\n",
    "        for pas_type in ['UNC', 'UNF', 'UNEF', 'BSW', 'BSF', 'BSP-BSPT / RC', 'NPT']:\n",
    "            pas_value = row[pas_type]\n",
    "            if pd.notna(diam_mm) and pd.notna(pas_value):\n",
    "                l.append((diam_mm, pas_value))\n",
    "    return l"
   ]
  },
  {
   "cell_type": "code",
   "execution_count": 24,
   "id": "a683f095",
   "metadata": {},
   "outputs": [
    {
     "data": {
      "text/plain": [
       "80.0"
      ]
     },
     "execution_count": 24,
     "metadata": {},
     "output_type": "execute_result"
    }
   ],
   "source": [
    "l = pattern_list(df)\n",
    "l[0][0]\n",
    "l[0][1]"
   ]
  },
  {
   "cell_type": "code",
   "execution_count": null,
   "id": "8068bec5",
   "metadata": {},
   "outputs": [],
   "source": []
  }
 ],
 "metadata": {
  "kernelspec": {
   "display_name": "Python 3 (ipykernel)",
   "language": "python",
   "name": "python3"
  },
  "language_info": {
   "codemirror_mode": {
    "name": "ipython",
    "version": 3
   },
   "file_extension": ".py",
   "mimetype": "text/x-python",
   "name": "python",
   "nbconvert_exporter": "python",
   "pygments_lexer": "ipython3",
   "version": "3.11.5"
  }
 },
 "nbformat": 4,
 "nbformat_minor": 5
}
