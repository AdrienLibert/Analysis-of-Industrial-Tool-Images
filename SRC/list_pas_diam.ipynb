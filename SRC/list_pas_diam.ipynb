{
 "cells": [
  {
   "cell_type": "code",
   "execution_count": 8,
   "id": "21aeb656",
   "metadata": {},
   "outputs": [],
   "source": [
    "import pandas as pd"
   ]
  },
  {
   "cell_type": "code",
   "execution_count": 19,
   "id": "7ed6d19f",
   "metadata": {},
   "outputs": [],
   "source": [
    "df = pd.read_csv('TableauConversion/Metrique.csv')\n",
    "df.columns = ['Type', 'Diamètre', 'Pas']\n"
   ]
  },
  {
   "cell_type": "code",
   "execution_count": 24,
   "id": "294ef65d",
   "metadata": {},
   "outputs": [],
   "source": [
    "def pattern_list(df):\n",
    "    l = []\n",
    "    for index, row in df.iterrows():\n",
    "        metric_str = row['Diamètre']\n",
    "        if pd.notna(metric_str) and \"M\" in metric_str:\n",
    "            try:\n",
    "                diam_mm = float(metric_str.replace(\"M\", \"\").replace(\",\", \".\"))\n",
    "            except ValueError:\n",
    "                continue\n",
    "            pas_value = row['Pas']\n",
    "            if pd.notna(pas_value):\n",
    "                l.append((diam_mm, pas_value/100))\n",
    "    return l\n"
   ]
  },
  {
   "cell_type": "code",
   "execution_count": 25,
   "id": "a683f095",
   "metadata": {},
   "outputs": [
    {
     "data": {
      "text/plain": [
       "0.25"
      ]
     },
     "execution_count": 25,
     "metadata": {},
     "output_type": "execute_result"
    }
   ],
   "source": [
    "l = pattern_list(df)\n",
    "l[0][0]\n",
    "l[0][1]"
   ]
  },
  {
   "cell_type": "code",
   "execution_count": 26,
   "id": "3f557ded",
   "metadata": {},
   "outputs": [
    {
     "name": "stdout",
     "output_type": "stream",
     "text": [
      "Index(['Métrique', 'M1', '25'], dtype='object')\n"
     ]
    }
   ],
   "source": [
    "df = pd.read_csv('TableauConversion/Metrique.csv')\n",
    "print(df.columns)\n"
   ]
  },
  {
   "cell_type": "code",
   "execution_count": null,
   "id": "f8b18d8a",
   "metadata": {},
   "outputs": [],
   "source": []
  }
 ],
 "metadata": {
  "kernelspec": {
   "display_name": "Python 3 (ipykernel)",
   "language": "python",
   "name": "python3"
  },
  "language_info": {
   "codemirror_mode": {
    "name": "ipython",
    "version": 3
   },
   "file_extension": ".py",
   "mimetype": "text/x-python",
   "name": "python",
   "nbconvert_exporter": "python",
   "pygments_lexer": "ipython3",
   "version": "3.11.5"
  }
 },
 "nbformat": 4,
 "nbformat_minor": 5
}
