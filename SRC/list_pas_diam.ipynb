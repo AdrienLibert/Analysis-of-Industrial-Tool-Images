{
 "cells": [
  {
   "cell_type": "code",
   "execution_count": 3,
   "id": "21aeb656",
   "metadata": {},
   "outputs": [
    {
     "name": "stderr",
     "output_type": "stream",
     "text": [
      "C:\\Users\\adrie\\AppData\\Local\\Temp\\ipykernel_1416\\4080736814.py:1: DeprecationWarning: \n",
      "Pyarrow will become a required dependency of pandas in the next major release of pandas (pandas 3.0),\n",
      "(to allow more performant data types, such as the Arrow string type, and better interoperability with other libraries)\n",
      "but was not found to be installed on your system.\n",
      "If this would cause problems for you,\n",
      "please provide us feedback at https://github.com/pandas-dev/pandas/issues/54466\n",
      "        \n",
      "  import pandas as pd\n"
     ]
    }
   ],
   "source": [
    "import pandas as pd"
   ]
  },
  {
   "cell_type": "code",
   "execution_count": 4,
   "id": "7ed6d19f",
   "metadata": {},
   "outputs": [],
   "source": [
    "df = pd.read_csv('TableauConversion/Tableau_conversion.csv')"
   ]
  },
  {
   "cell_type": "code",
   "execution_count": 9,
   "id": "294ef65d",
   "metadata": {},
   "outputs": [],
   "source": [
    "def pattern_list(df):\n",
    "    l = []\n",
    "    for index, row in df.iterrows():\n",
    "        diam_mm_str = row['Diam_mm']\n",
    "        if pd.notna(diam_mm_str):\n",
    "            if isinstance(diam_mm_str, str):\n",
    "                diam_mm = float(diam_mm_str.replace(',', '.'))\n",
    "            else:\n",
    "                diam_mm = float(diam_mm_str)\n",
    "        else:\n",
    "            diam_mm = None\n",
    "\n",
    "        for pas_type in ['UNC', 'UNF', 'UNEF', 'BSW', 'BSF', 'BSP-BSPT / RC', 'NPT']:\n",
    "            pas_value_str = row[pas_type]\n",
    "            if pd.notna(pas_value_str):\n",
    "                if isinstance(pas_value_str, str):\n",
    "                    pas_value = float(pas_value_str.replace(',', '.'))\n",
    "                else:\n",
    "                    pas_value = float(pas_value_str)\n",
    "            else:\n",
    "                pas_value = None\n",
    "\n",
    "            if diam_mm is not None and pas_value is not None:\n",
    "                l.append((diam_mm, pas_value))\n",
    "    return l"
   ]
  },
  {
   "cell_type": "code",
   "execution_count": 12,
   "id": "a683f095",
   "metadata": {},
   "outputs": [
    {
     "data": {
      "text/plain": [
       "80.0"
      ]
     },
     "execution_count": 12,
     "metadata": {},
     "output_type": "execute_result"
    }
   ],
   "source": [
    "l = pattern_list(df)\n",
    "l[0][0]\n",
    "l[0][1]"
   ]
  }
 ],
 "metadata": {
  "kernelspec": {
   "display_name": "Python 3 (ipykernel)",
   "language": "python",
   "name": "python3"
  },
  "language_info": {
   "codemirror_mode": {
    "name": "ipython",
    "version": 3
   },
   "file_extension": ".py",
   "mimetype": "text/x-python",
   "name": "python",
   "nbconvert_exporter": "python",
   "pygments_lexer": "ipython3",
   "version": "3.11.5"
  }
 },
 "nbformat": 4,
 "nbformat_minor": 5
}
