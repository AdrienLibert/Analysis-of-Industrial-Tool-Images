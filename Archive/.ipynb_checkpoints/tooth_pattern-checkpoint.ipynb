{
 "cells": [
  {
   "cell_type": "code",
   "execution_count": 6,
   "id": "15e3c241",
   "metadata": {},
   "outputs": [],
   "source": [
    "import cv2\n",
    "import numpy as np\n",
    "from matplotlib import pyplot as plt\n",
    "import nbimporter\n",
    "from diametre_monnaie import conversion_piece"
   ]
  },
  {
   "cell_type": "code",
   "execution_count": 7,
   "id": "80753146",
   "metadata": {},
   "outputs": [],
   "source": [
    "image_path = '../DataBase/image7.jpg' \n",
    "\n",
    "reference_object_mm = 22.6  # diamètre de la pièce de monnaie en mm \n",
    "\n",
    "# Les dimensions réelles en millimètres de la piece \n",
    "\n",
    "diametre_reel_mm = 20  # Diamètre réel du filetage en mm  \n",
    "pas_reel_mm = 25.4 / 14 # Pas réel du filetage en mm"
   ]
  },
  {
   "cell_type": "code",
   "execution_count": 8,
   "id": "ad088dc1",
   "metadata": {},
   "outputs": [],
   "source": [
    "def draw_tooth_pattern(image_path, pas_reel_mm, reference_object_mm, rotation):\n",
    "    # Supposons que cette fonction retourne la taille en pixels du diamètre réel\n",
    "    size_pixels = conversion_piece(image_path, reference_object_mm)\n",
    "    \n",
    "    if size_pixels <= 0:\n",
    "        raise ValueError(\"La taille en pixels doit être positive et non nulle\")\n",
    "\n",
    "    pas_pixels = pas_reel_mm / size_pixels\n",
    "    tooth_height = max(int(1 / size_pixels), 1)  # Assurez-vous que la hauteur est au moins 1\n",
    "    \n",
    "    pattern_width = int(pas_pixels) * 4  # Largeur pour 4 dents\n",
    "    \n",
    "    pattern_image = np.zeros((tooth_height, pattern_width), dtype=np.uint8)\n",
    "    \n",
    "    # Dessiner 4 dents\n",
    "    for i in range(4):\n",
    "        start_x = int(i * pas_pixels + pas_pixels * 0.25)\n",
    "        end_x = int((i + 1) * pas_pixels - pas_pixels * 0.25)\n",
    "        middle_x = int((start_x + end_x) / 2)\n",
    "        \n",
    "        cv2.line(pattern_image, (start_x, tooth_height - 1), (middle_x, 0), 255, 1)\n",
    "        cv2.line(pattern_image, (middle_x, 0), (end_x, tooth_height - 1), 255, 1)\n",
    "\n",
    "    if rotation:\n",
    "        pattern_image = cv2.rotate(pattern_image, cv2.ROTATE_180)\n",
    "\n",
    "    return pattern_image\n"
   ]
  },
  {
   "cell_type": "code",
   "execution_count": 9,
   "id": "2cf875cc",
   "metadata": {},
   "outputs": [
    {
     "data": {
      "text/plain": [
       "True"
      ]
     },
     "execution_count": 9,
     "metadata": {},
     "output_type": "execute_result"
    }
   ],
   "source": [
    "pattern_image = draw_tooth_pattern(image_path,pas_reel_mm,reference_object_mm,False)\n",
    "pattern_image_r = draw_tooth_pattern(image_path,pas_reel_mm,reference_object_mm,True)\n",
    "cv2.imwrite('pattern_image.jpg', pattern_image)\n",
    "cv2.imwrite('pattern_image_r.jpg', pattern_image_r)"
   ]
  },
  {
   "cell_type": "code",
   "execution_count": 10,
   "id": "4a28c848",
   "metadata": {},
   "outputs": [],
   "source": [
    "def match(template,img):\n",
    "    w, h = template.shape[::-1]\n",
    "    res = cv2.matchTemplate(img,template,cv2.TM_CCOEFF_NORMED)\n",
    "    min_val, max_val, min_loc, max_loc = cv2.minMaxLoc(res)\n",
    "\n",
    "    top_left = max_loc\n",
    "    bottom_right = (top_left[0] + w, top_left[1] + h)\n",
    "    cv2.rectangle(img,top_left, bottom_right, 255, 2)\n",
    "    \n",
    "    return img,res,max_val"
   ]
  },
  {
   "cell_type": "code",
   "execution_count": 16,
   "id": "abbe65c7",
   "metadata": {},
   "outputs": [],
   "source": [
    "def match(template,img):\n",
    "    w, h = template.shape[::-1]\n",
    "    res = cv2.matchTemplate(img,template,cv2.TM_CCOEFF_NORMED)\n",
    "    min_val, max_val, min_loc, max_loc = cv2.minMaxLoc(res)\n",
    "\n",
    "    top_left = max_loc\n",
    "    bottom_right = (top_left[0] + w, top_left[1] + h)\n",
    "    cv2.rectangle(img,top_left, bottom_right, 255, 2)\n",
    "    \n",
    "    return img,res,max_val\n",
    "\n",
    "def match_top_bottom(template,template_r, img_path, vertical_split_ratio=0.5):\n",
    "    img = cv2.imread(img_path, cv2.IMREAD_GRAYSCALE)\n",
    "    h, w = img.shape\n",
    "\n",
    "    split_line = int(vertical_split_ratio * h)\n",
    "\n",
    "    img_with_matches = img.copy()\n",
    "\n",
    "    top_region = img[:split_line, :]\n",
    "    bottom_region = img[split_line:, :]\n",
    "\n",
    "    img_with_matches_h, res_top, max_val_top = match(template_r, top_region)\n",
    "    \n",
    "    _, _, _, max_loc_top = cv2.minMaxLoc(res_top)\n",
    "    top_left_top = max_loc_top\n",
    "\n",
    "    img_with_matches_b, res_bottom, max_val_bottom = match(template, bottom_region)\n",
    "    \n",
    "    _, _, _, max_loc_bottom = cv2.minMaxLoc(res_bottom)\n",
    "    bottom_right_bottom = (max_loc_bottom[0] + template.shape[1], max_loc_bottom[1] + split_line + template.shape[0])\n",
    "\n",
    "    output_path = 'matched_bottom_h.jpg'\n",
    "    cv2.imwrite(output_path, img_with_matches_h)\n",
    "\n",
    "    output_path = 'matched_bottom_b.jpg'\n",
    "    cv2.imwrite(output_path, img_with_matches_b)\n",
    "    \n",
    "    image_fusionnee = np.vstack((img_with_matches_h, img_with_matches_b))\n",
    "    \n",
    "    output_path = 'matched.jpg'\n",
    "    cv2.imwrite(output_path, image_fusionnee)\n",
    "    return image_fusionnee, (res_top, res_bottom), (max_val_top, max_val_bottom),top_left_top,bottom_right_bottom\n"
   ]
  },
  {
   "cell_type": "code",
   "execution_count": 17,
   "id": "5ec2625f",
   "metadata": {
    "scrolled": true
   },
   "outputs": [
    {
     "data": {
      "text/plain": [
       "(array([[143, 142, 140, ..., 162, 162, 162],\n",
       "        [143, 142, 140, ..., 162, 162, 162],\n",
       "        [143, 142, 141, ..., 162, 162, 162],\n",
       "        ...,\n",
       "        [155, 153, 151, ..., 182, 182, 182],\n",
       "        [155, 152, 149, ..., 182, 182, 182],\n",
       "        [155, 152, 149, ..., 182, 182, 182]], dtype=uint8),\n",
       " (array([[ 0.00478011, -0.00734098, -0.00743546, ..., -0.02885098,\n",
       "          -0.02946723, -0.02861918],\n",
       "         [ 0.01420025,  0.01031761, -0.00184617, ..., -0.02801819,\n",
       "          -0.02879716, -0.02389637],\n",
       "         [ 0.01605636,  0.02148383,  0.00323427, ..., -0.02774016,\n",
       "          -0.0279217 , -0.02253641],\n",
       "         ...,\n",
       "         [-0.01400566,  0.00246581,  0.0111005 , ...,  0.02250917,\n",
       "           0.03893349,  0.04804771],\n",
       "         [-0.02316808, -0.00766008,  0.00996475, ...,  0.01748154,\n",
       "           0.03177003,  0.04461168],\n",
       "         [-0.02932882, -0.01834198, -0.00081755, ...,  0.01552644,\n",
       "           0.02646689,  0.03720336]], dtype=float32),\n",
       "  array([[ 0.02932685,  0.03957905,  0.04118163, ...,  0.00530504,\n",
       "          -0.01162558, -0.02754462],\n",
       "         [ 0.01771194,  0.02920898,  0.03384629, ...,  0.00484793,\n",
       "          -0.01636344, -0.03657955],\n",
       "         [ 0.01115524,  0.02157959,  0.0283816 , ...,  0.00495971,\n",
       "          -0.02012402, -0.03816428],\n",
       "         ...,\n",
       "         [ 0.01419997,  0.00086207, -0.01031669, ..., -0.02303288,\n",
       "          -0.02255325, -0.00579775],\n",
       "         [ 0.00621921,  0.00622407, -0.00390647, ..., -0.02043484,\n",
       "          -0.01893001, -0.00463343],\n",
       "         [ 0.0021274 ,  0.00817665,  0.00309599, ..., -0.02411048,\n",
       "          -0.01300866, -0.00434377]], dtype=float32)),\n",
       " (0.18251219391822815, 0.21101081371307373),\n",
       " (2379, 1107),\n",
       " (2472, 1552))"
      ]
     },
     "execution_count": 17,
     "metadata": {},
     "output_type": "execute_result"
    }
   ],
   "source": [
    "match_top_bottom(pattern_image,pattern_image_r, image_path)"
   ]
  },
  {
   "cell_type": "code",
   "execution_count": null,
   "id": "6548f43d",
   "metadata": {},
   "outputs": [],
   "source": [
    "img, res, max_val = match(pattern_image, image_path)\n",
    "cv2.imwrite('matched_image.jpg', img)"
   ]
  },
  {
   "cell_type": "code",
   "execution_count": null,
   "id": "8aaef875",
   "metadata": {},
   "outputs": [],
   "source": []
  },
  {
   "cell_type": "code",
   "execution_count": null,
   "id": "b4a1c3eb",
   "metadata": {},
   "outputs": [],
   "source": []
  }
 ],
 "metadata": {
  "kernelspec": {
   "display_name": "Python 3 (ipykernel)",
   "language": "python",
   "name": "python3"
  },
  "language_info": {
   "codemirror_mode": {
    "name": "ipython",
    "version": 3
   },
   "file_extension": ".py",
   "mimetype": "text/x-python",
   "name": "python",
   "nbconvert_exporter": "python",
   "pygments_lexer": "ipython3",
   "version": "3.11.5"
  }
 },
 "nbformat": 4,
 "nbformat_minor": 5
}
