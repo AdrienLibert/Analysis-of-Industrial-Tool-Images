{
 "cells": [
  {
   "cell_type": "code",
   "execution_count": 26,
   "id": "74e0480f",
   "metadata": {},
   "outputs": [],
   "source": [
    "import cv2 \n",
    "import numpy as np"
   ]
  },
  {
   "cell_type": "code",
   "execution_count": 41,
   "id": "67fb8174",
   "metadata": {},
   "outputs": [],
   "source": [
    "image = cv2.imread('image_test.jpg', 0)"
   ]
  },
  {
   "cell_type": "code",
   "execution_count": 42,
   "id": "ba40eaa8",
   "metadata": {},
   "outputs": [],
   "source": [
    "taille_noyau = (5, 5)  # Utilisez une taille de noyau impair, par exemple (5, 5)\n",
    "sigma = 0  # OpenCV calcule le sigma basé sur la taille du noyau si sigma est 0\n",
    "image = cv2.GaussianBlur(image, taille_noyau, sigma)"
   ]
  },
  {
   "cell_type": "code",
   "execution_count": 43,
   "id": "0b236218",
   "metadata": {},
   "outputs": [],
   "source": [
    "edges = cv2.adaptiveThreshold(image, 255, cv2.ADAPTIVE_THRESH_MEAN_C, cv2.THRESH_BINARY_INV, 3, 2)"
   ]
  },
  {
   "cell_type": "code",
   "execution_count": 44,
   "id": "5742028b",
   "metadata": {},
   "outputs": [
    {
     "data": {
      "text/plain": [
       "True"
      ]
     },
     "execution_count": 44,
     "metadata": {},
     "output_type": "execute_result"
    }
   ],
   "source": [
    "cv2.imwrite('image2_test.jpg', edges)"
   ]
  },
  {
   "cell_type": "code",
   "execution_count": 45,
   "id": "7b53240d",
   "metadata": {},
   "outputs": [],
   "source": [
    "# Trouvez les contours dans l'image seuillée\n",
    "contours, hierarchy = cv2.findContours(edges, cv2.RETR_EXTERNAL, cv2.CHAIN_APPROX_SIMPLE)"
   ]
  },
  {
   "cell_type": "code",
   "execution_count": 46,
   "id": "f1309ccc",
   "metadata": {},
   "outputs": [],
   "source": [
    "# Filtrez les contours si nécessaire (ici on suppose le plus grand contour est notre objet)\n",
    "cnt = max(contours, key=cv2.contourArea)"
   ]
  },
  {
   "cell_type": "code",
   "execution_count": 47,
   "id": "b191145c",
   "metadata": {},
   "outputs": [],
   "source": [
    "output_image = cv2.cvtColor(edges, cv2.COLOR_GRAY2BGR)\n"
   ]
  },
  {
   "cell_type": "code",
   "execution_count": 48,
   "id": "934af86c",
   "metadata": {},
   "outputs": [
    {
     "data": {
      "text/plain": [
       "True"
      ]
     },
     "execution_count": 48,
     "metadata": {},
     "output_type": "execute_result"
    }
   ],
   "source": [
    "# Calculez le cercle englobant le contour\n",
    "(x, y), radius = cv2.minEnclosingCircle(cnt)\n",
    "center = (int(x), int(y))\n",
    "radius = int(radius)\n",
    "\n",
    "# Calculez le diamètre\n",
    "diameter = 2 * radius\n",
    "\n",
    "# Affichez le cercle et le centre sur l'image originale\n",
    "output_image = cv2.cvtColor(edges, cv2.COLOR_GRAY2BGR)\n",
    "cv2.circle(output_image, center, radius, (0, 255, 0), 2)\n",
    "cv2.circle(output_image, center, 1, (0, 0, 255), 3)\n",
    "\n",
    "# Calculez les points de fin pour la ligne de diamètre\n",
    "start_point = (int(x - radius), int(y))  # Point de départ à gauche du centre\n",
    "end_point = (int(x + radius), int(y))    # Point de fin à droite du centre\n",
    "\n",
    "# Dessinez le diamètre\n",
    "cv2.line(output_image, start_point, end_point, (255, 0, 0), 2)\n",
    "cv2.imwrite('output_image_test.png', output_image)"
   ]
  },
  {
   "cell_type": "code",
   "execution_count": 49,
   "id": "24840093",
   "metadata": {},
   "outputs": [],
   "source": [
    "# Convertissez de pixels à unités réelles si nécessaire\n",
    "# scale = real_world_units_per_pixel\n",
    "# real_diameter = diameter * scale"
   ]
  },
  {
   "cell_type": "code",
   "execution_count": 50,
   "id": "42c6b057",
   "metadata": {},
   "outputs": [
    {
     "name": "stdout",
     "output_type": "stream",
     "text": [
      "Estimated diameter in pixels: 292\n"
     ]
    }
   ],
   "source": [
    "print(f\"Estimated diameter in pixels: {diameter}\")\n",
    "# print(f\"Estimated diameter in real-world units: {real_diameter}\")"
   ]
  },
  {
   "cell_type": "code",
   "execution_count": 14,
   "id": "7947223e",
   "metadata": {},
   "outputs": [
    {
     "name": "stdout",
     "output_type": "stream",
     "text": [
      "Estimated diameter in pixels: 428\n"
     ]
    }
   ],
   "source": []
  },
  {
   "cell_type": "code",
   "execution_count": null,
   "id": "993ac64d",
   "metadata": {},
   "outputs": [],
   "source": []
  }
 ],
 "metadata": {
  "kernelspec": {
   "display_name": "Python 3 (ipykernel)",
   "language": "python",
   "name": "python3"
  },
  "language_info": {
   "codemirror_mode": {
    "name": "ipython",
    "version": 3
   },
   "file_extension": ".py",
   "mimetype": "text/x-python",
   "name": "python",
   "nbconvert_exporter": "python",
   "pygments_lexer": "ipython3",
   "version": "3.11.5"
  }
 },
 "nbformat": 4,
 "nbformat_minor": 5
}
